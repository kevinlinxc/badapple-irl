{
 "cells": [
  {
   "cell_type": "markdown",
   "source": [
    "# Vision\n",
    "\n",
    "The purpose of this notebook is to create images that will make the workflow of moving apples easy to do. \n",
    "The final product will be a Streamlit site where I can go forward and backwards and see frames and the transitions between them.\n",
    "\n",
    "Requirements: Original frame, downsampled frame  with coordinates of every apple, previous downsampled frame, and a diff frame with the added apples in green and removed apples in red."
   ],
   "metadata": {
    "collapsed": false
   },
   "id": "6747e560b2b692fd"
  },
  {
   "cell_type": "code",
   "execution_count": 1,
   "outputs": [],
   "source": [
    "import cv2\n",
    "import numpy as np\n",
    "from pathlib import Path\n",
    "import os"
   ],
   "metadata": {
    "collapsed": false,
    "ExecuteTime": {
     "end_time": "2023-10-09T20:45:06.705756Z",
     "start_time": "2023-10-09T20:45:06.349969Z"
    }
   },
   "id": "23178aabc4fd075"
  },
  {
   "cell_type": "code",
   "execution_count": 4,
   "outputs": [
    {
     "name": "stdout",
     "output_type": "stream",
     "text": [
      "width: 960, height: 720, fps: 30, n_frames: 6572\n"
     ]
    }
   ],
   "source": [
    "badapple_path = Path(\".\").resolve().parent / \"badapple-small.mp4\"\n",
    "\n",
    "cap = cv2.VideoCapture(str(badapple_path))\n",
    "\n",
    "width = int(cap.get(cv2.CAP_PROP_FRAME_WIDTH))\n",
    "height = int(cap.get(cv2.CAP_PROP_FRAME_HEIGHT))\n",
    "fps = int(cap.get(cv2.CAP_PROP_FPS))\n",
    "n_frames = int(cap.get(cv2.CAP_PROP_FRAME_COUNT))\n",
    "print(f\"width: {width}, height: {height}, fps: {fps}, n_frames: {n_frames}\")\n",
    "\n",
    "square_side = 30\n",
    "black_threshold = 50"
   ],
   "metadata": {
    "collapsed": false,
    "ExecuteTime": {
     "end_time": "2023-10-09T20:59:34.432081Z",
     "start_time": "2023-10-09T20:59:34.423830Z"
    }
   },
   "id": "5dc3eefb4ee47cc2"
  },
  {
   "cell_type": "code",
   "execution_count": 3,
   "outputs": [],
   "source": [
    "# Generate real_frames\n",
    "ret, frame = cap.read()\n",
    "index = 0\n",
    "while ret:\n",
    "    cv2.imwrite(f\"real_frames/{index}.jpg\", frame)\n",
    "    ret, frame = cap.read()\n",
    "    index += 1"
   ],
   "metadata": {
    "collapsed": false,
    "ExecuteTime": {
     "end_time": "2023-10-09T20:50:44.556932Z",
     "start_time": "2023-10-09T20:50:10.728970Z"
    }
   },
   "id": "1ad2fd8035277a66"
  },
  {
   "cell_type": "markdown",
   "source": [
    "### Generate downsampled frames with coordinates of apples labeled"
   ],
   "metadata": {
    "collapsed": false
   },
   "id": "564f8cf3743ad5aa"
  },
  {
   "cell_type": "code",
   "execution_count": 14,
   "outputs": [
    {
     "name": "stdout",
     "output_type": "stream",
     "text": [
      "frame 6571/6572\r"
     ]
    }
   ],
   "source": [
    "# reset cap\n",
    "cap = cv2.VideoCapture(str(badapple_path))\n",
    "index = 0\n",
    "while cap.isOpened():\n",
    "    ret, frame = cap.read()\n",
    "    if not ret:\n",
    "        break\n",
    "    # convert to grayscale\n",
    "    frame = cv2.cvtColor(frame, cv2.COLOR_BGR2GRAY)\n",
    "    if index % 100 == 0 or index == n_frames - 1:\n",
    "        print(f\"frame {index}/{n_frames}\", end=\"\\r\")\n",
    "    out_frame = np.ones((height, width), dtype=np.uint8) * 255\n",
    "\n",
    "    current_frame_pixels = set()\n",
    "    for i in range(0, width - 1, square_side):\n",
    "        for j in range(0, height - 1, square_side):\n",
    "            section = frame[j: j + square_side, i: i + square_side]\n",
    "            # if its dark, add dark circle with white coordinate text\n",
    "            if (np.mean(section)) < black_threshold:\n",
    "                cv2.circle(out_frame, (i+square_side//2, j+square_side//2), square_side//2, 0, -1)\n",
    "                text_color = 255\n",
    "            else:\n",
    "                text_color = 0\n",
    "            # otherwise, black coordinate text\n",
    "            # put first coordinate higher, second coordinate lower\n",
    "            \n",
    "            cv2.putText(out_frame, f\"{j//square_side+1}\", (i+square_side//3-1, j + 22), cv2.FONT_HERSHEY_SIMPLEX, 0.3, text_color, 1, cv2.LINE_AA)\n",
    "            cv2.putText(out_frame, f\"{i//square_side+1}\", (i+square_side//3-1, j + 12), cv2.FONT_HERSHEY_SIMPLEX, 0.3, text_color, 1, cv2.LINE_AA)\n",
    "    cv2.imwrite(f\"circle_frames/{index}.jpg\", out_frame)\n",
    "    index += 1"
   ],
   "metadata": {
    "collapsed": false,
    "ExecuteTime": {
     "end_time": "2023-10-10T02:12:09.332152Z",
     "start_time": "2023-10-10T02:11:04.971791Z"
    }
   },
   "id": "a3a646311b9b3e6d"
  },
  {
   "cell_type": "markdown",
   "source": [
    "### Generate diff frames with additions in green and removals in red"
   ],
   "metadata": {
    "collapsed": false
   },
   "id": "5902751fd37754b7"
  },
  {
   "cell_type": "code",
   "execution_count": 15,
   "outputs": [
    {
     "name": "stdout",
     "output_type": "stream",
     "text": [
      "frame 6571/6572\r"
     ]
    }
   ],
   "source": [
    "# reset cap\n",
    "cap = cv2.VideoCapture(str(badapple_path))\n",
    "index = 0\n",
    "last_frame_pixels = set()\n",
    "\n",
    "while cap.isOpened():\n",
    "    ret, frame = cap.read()\n",
    "\n",
    "    if not ret:\n",
    "        break\n",
    "    # convert to grayscale\n",
    "    frame = cv2.cvtColor(frame, cv2.COLOR_BGR2GRAY)\n",
    "    if index % 100 == 0 or index == n_frames - 1:\n",
    "        print(f\"frame {index}/{n_frames}\", end=\"\\r\")\n",
    "        \n",
    "    out_frame = np.ones((height, width, 3), dtype=np.uint8) * 255\n",
    "\n",
    "    current_frame_pixels = set()\n",
    "    for i in range(0, width - 1, square_side):\n",
    "        for j in range(0, height - 1, square_side):\n",
    "            section = frame[j: j + square_side, i: i + square_side]\n",
    "             # three cases we care about: a pixel is persisted, a pixel is added, a pixel is removed\n",
    "            circle_colour = None\n",
    "            if (np.mean(section)) < 50:\n",
    "                current_frame_pixels.add((i, j))\n",
    "                # black pixel\n",
    "                if (i, j) in last_frame_pixels:\n",
    "                    # persisted from previous frame. Black circle, white text\n",
    "                    circle_colour = (0, 0, 0)\n",
    "                    text_color = (255, 255, 255)\n",
    "                else:\n",
    "                    # new black dot. Green circle, black text\n",
    "                    circle_colour = (0, 255, 0)\n",
    "                    text_color = (0, 0 ,0)\n",
    "            else:\n",
    "                # white pixel\n",
    "                if (i, j) in last_frame_pixels:\n",
    "                    # removed black dot. Red circle, black text\n",
    "                    circle_colour = (0, 0, 255)\n",
    "                    text_color = (0, 0, 0)\n",
    "                else:\n",
    "                    # persisted nothing. Just use black text\n",
    "                    text_color = (0, 0 ,0)\n",
    "                    \n",
    "            if circle_colour is not None:\n",
    "                cv2.circle(out_frame, (i+square_side//2, j+square_side//2), square_side//2, circle_colour, -1)\n",
    "            cv2.putText(out_frame, f\"{j//square_side+1}\", (i+square_side//3-1, j + 22), cv2.FONT_HERSHEY_SIMPLEX, 0.3, text_color, 1, cv2.LINE_AA)\n",
    "            cv2.putText(out_frame, f\"{i//square_side+1}\", (i+square_side//3-1, j + 12), cv2.FONT_HERSHEY_SIMPLEX, 0.3, text_color, 1, cv2.LINE_AA)\n",
    "    cv2.imwrite(f\"diff_frames/{index}.jpg\", out_frame)\n",
    "\n",
    "    last_frame_pixels = current_frame_pixels\n",
    "    index += 1"
   ],
   "metadata": {
    "collapsed": false,
    "ExecuteTime": {
     "end_time": "2023-10-10T02:41:11.150981Z",
     "start_time": "2023-10-10T02:39:37.170525Z"
    }
   },
   "id": "996035405a9ef9ef"
  },
  {
   "cell_type": "code",
   "execution_count": null,
   "outputs": [],
   "source": [],
   "metadata": {
    "collapsed": false
   },
   "id": "1c2e314a004f8bfb"
  }
 ],
 "metadata": {
  "kernelspec": {
   "display_name": "Python 3",
   "language": "python",
   "name": "python3"
  },
  "language_info": {
   "codemirror_mode": {
    "name": "ipython",
    "version": 2
   },
   "file_extension": ".py",
   "mimetype": "text/x-python",
   "name": "python",
   "nbconvert_exporter": "python",
   "pygments_lexer": "ipython2",
   "version": "2.7.6"
  }
 },
 "nbformat": 4,
 "nbformat_minor": 5
}
