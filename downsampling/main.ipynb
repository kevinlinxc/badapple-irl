{
 "cells": [
  {
   "cell_type": "markdown",
   "source": [
    "# Vision\n",
    "\n",
    "The purpose of this notebook is to create images that will make the workflow of moving apples easy to do. \n",
    "The final product will be a Streamlit site where I can go forward and backwards and see frames and the transitions between them.\n",
    "\n",
    "Requirements: Original frame, downsampled frame  with coordinates of every apple, previous downsampled frame, and a diff frame with the added apples in green and removed apples in red."
   ],
   "metadata": {
    "collapsed": false
   },
   "id": "6747e560b2b692fd"
  },
  {
   "cell_type": "code",
   "execution_count": 1,
   "outputs": [],
   "source": [
    "import cv2\n",
    "import numpy as np\n",
    "from pathlib import Path\n",
    "import os"
   ],
   "metadata": {
    "collapsed": false,
    "ExecuteTime": {
     "end_time": "2023-10-09T20:45:06.705756Z",
     "start_time": "2023-10-09T20:45:06.349969Z"
    }
   },
   "id": "23178aabc4fd075"
  },
  {
   "cell_type": "code",
   "execution_count": 4,
   "outputs": [
    {
     "name": "stdout",
     "output_type": "stream",
     "text": [
      "width: 960, height: 720, fps: 30, n_frames: 6572\n"
     ]
    }
   ],
   "source": [
    "badapple_path = Path(\".\").resolve().parent / \"badapple-small.mp4\"\n",
    "\n",
    "cap = cv2.VideoCapture(str(badapple_path))\n",
    "\n",
    "width = int(cap.get(cv2.CAP_PROP_FRAME_WIDTH))\n",
    "height = int(cap.get(cv2.CAP_PROP_FRAME_HEIGHT))\n",
    "fps = int(cap.get(cv2.CAP_PROP_FPS))\n",
    "n_frames = int(cap.get(cv2.CAP_PROP_FRAME_COUNT))\n",
    "print(f\"width: {width}, height: {height}, fps: {fps}, n_frames: {n_frames}\")\n",
    "\n",
    "square_side = 30"
   ],
   "metadata": {
    "collapsed": false,
    "ExecuteTime": {
     "end_time": "2023-10-09T20:59:34.432081Z",
     "start_time": "2023-10-09T20:59:34.423830Z"
    }
   },
   "id": "5dc3eefb4ee47cc2"
  },
  {
   "cell_type": "code",
   "execution_count": 3,
   "outputs": [],
   "source": [
    "# Generate real_frames\n",
    "ret, frame = cap.read()\n",
    "index = 0\n",
    "while ret:\n",
    "    cv2.imwrite(f\"real_frames/{index}.jpg\", frame)\n",
    "    ret, frame = cap.read()\n",
    "    index += 1"
   ],
   "metadata": {
    "collapsed": false,
    "ExecuteTime": {
     "end_time": "2023-10-09T20:50:44.556932Z",
     "start_time": "2023-10-09T20:50:10.728970Z"
    }
   },
   "id": "1ad2fd8035277a66"
  },
  {
   "cell_type": "code",
   "execution_count": 10,
   "outputs": [
    {
     "name": "stdout",
     "output_type": "stream",
     "text": [
      "frame 6571/6572\r"
     ]
    }
   ],
   "source": [
    "# generate downsampled frames with coordinates of apples labeled\n",
    "# reset cap\n",
    "cap = cv2.VideoCapture(str(badapple_path))\n",
    "index = 0\n",
    "while cap.isOpened():\n",
    "    ret, frame = cap.read()\n",
    "    if not ret:\n",
    "        break\n",
    "    # convert to grayscale\n",
    "    frame = cv2.cvtColor(frame, cv2.COLOR_BGR2GRAY)\n",
    "    if index % 100 == 0 or index == n_frames - 1:\n",
    "        print(f\"frame {index}/{n_frames}\", end=\"\\r\")\n",
    "    out_frame = np.ones((height, width), dtype=np.uint8) * 255\n",
    "\n",
    "    current_frame_pixels = set()\n",
    "    for i in range(0, width - 1, square_side):\n",
    "        for j in range(0, height - 1, square_side):\n",
    "            section = frame[j: j + square_side, i: i + square_side]\n",
    "            # if its dark, add dark circle with white coordinate text\n",
    "            if (np.mean(section)) < 50:\n",
    "                cv2.circle(out_frame, (i+square_side//2, j+square_side//2), square_side//2, 0, -1)\n",
    "                text_color = 255\n",
    "            else:\n",
    "                text_color = 0\n",
    "            # otherwise, black coordinate text\n",
    "            # put first coordinate higher, second coordinate lower\n",
    "            \n",
    "            cv2.putText(out_frame, f\"{j//square_side+1}\", (i+square_side//4, j + square_side -10), cv2.FONT_HERSHEY_SIMPLEX, 0.3, text_color, 1, cv2.LINE_AA)\n",
    "            cv2.putText(out_frame, f\"{i//square_side+1}\", (i+square_side//4, j + square_side - 20), cv2.FONT_HERSHEY_SIMPLEX, 0.3, text_color, 1, cv2.LINE_AA)\n",
    "    cv2.imwrite(f\"circle_frames/{index}.jpg\", out_frame)\n",
    "    index += 1\n",
    "\n",
    "                \n",
    "    \n"
   ],
   "metadata": {
    "collapsed": false,
    "ExecuteTime": {
     "end_time": "2023-10-09T22:56:05.050725Z",
     "start_time": "2023-10-09T22:55:02.662567Z"
    }
   },
   "id": "a3a646311b9b3e6d"
  },
  {
   "cell_type": "code",
   "execution_count": null,
   "outputs": [],
   "source": [],
   "metadata": {
    "collapsed": false
   },
   "id": "d1181b9c507722d0"
  }
 ],
 "metadata": {
  "kernelspec": {
   "display_name": "Python 3",
   "language": "python",
   "name": "python3"
  },
  "language_info": {
   "codemirror_mode": {
    "name": "ipython",
    "version": 2
   },
   "file_extension": ".py",
   "mimetype": "text/x-python",
   "name": "python",
   "nbconvert_exporter": "python",
   "pygments_lexer": "ipython2",
   "version": "2.7.6"
  }
 },
 "nbformat": 4,
 "nbformat_minor": 5
}
